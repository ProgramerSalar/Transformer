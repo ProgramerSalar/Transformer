{
 "cells": [
  {
   "cell_type": "markdown",
   "metadata": {},
   "source": [
    "# 3. config\n",
    "\n",
    "- we define two method one is called get config and one is to map to get the path where we will save the weights of the model"
   ]
  },
  {
   "cell_type": "code",
   "execution_count": null,
   "metadata": {},
   "outputs": [],
   "source": [
    "from pathlib import Path"
   ]
  },
  {
   "cell_type": "markdown",
   "metadata": {},
   "source": [
    "## 3.1 Get Config"
   ]
  },
  {
   "cell_type": "code",
   "execution_count": null,
   "metadata": {},
   "outputs": [],
   "source": [
    "def get_config():\n",
    "    return {\n",
    "        \"batch_size\":8,  # batch size, i choose 8 you can choose bigger if your computer allows it \n",
    "        \"num_epochs\":20, # number of training                                 \n",
    "        \"lr\":10**-4,     # learning rate i choose this, you can choose different, i saw this learning rate is reasonable \n",
    "        \"seq_len\":350,   # we need for this particular data set from english to italian which is 350 more than enough\n",
    "        \"d_model\":512,   # d_model that we will be using the default of 512\n",
    "        \"datasource\":\"opus_books\",    # data source is opus books\n",
    "        \"lang_src\":\"en\",   # language source is english \n",
    "        \"lang_tgt\":\"it\",   # target language is italian \n",
    "        \"model_folder\":\"weights\",   # we will save the model into the folder called weights \n",
    "        \"model_filename\":\"tmodel_\",  # filename is tmodel_ \n",
    "        \"preload\":\"latest\",  # i also built the code to preload the model in case we want to restart the training after maybe it's crash\n",
    "        \"tokenizer_file\":\"tokenizer_{0}.json\",   # this is tokenizer file \n",
    "        \"experimental_name\":\"runs/tmodel\"        # this is the experiment name for tensorboard on which we will save the lossed in training time\n",
    "    }"
   ]
  },
  {
   "cell_type": "markdown",
   "metadata": {},
   "source": [
    "## 3.2 Get Weights\n",
    "\n",
    "- allow to find the Path where we need to save the weights "
   ]
  },
  {
   "cell_type": "code",
   "execution_count": null,
   "metadata": {},
   "outputs": [],
   "source": [
    "def get_weights_file_path(config, epoch:str):\n",
    "    model_folder = f\"{config['datasource']}_{config['model_folder']}\"\n",
    "    model_filename = f\"{config['model_basename']}{epoch}.pt\"\n",
    "    return str(Path('.') / model_folder / model_filename)"
   ]
  },
  {
   "cell_type": "markdown",
   "metadata": {},
   "source": [
    "## 3.3 Latest weights"
   ]
  },
  {
   "cell_type": "code",
   "execution_count": 1,
   "metadata": {},
   "outputs": [],
   "source": [
    "# find the latest weight file in the weights folder \n",
    "def latest_weights_file_path(config):\n",
    "    model_folder = f\"{config['datasource']}_{config['model_folder']}\"\n",
    "    model_filename = f\"{config['model_basename']}*\"\n",
    "    weights_files = list(Path(model_folder).glob(model_filename))\n",
    "    if len(weights_files) == 0:\n",
    "        return None \n",
    "    \n",
    "    weights_files.sort()\n",
    "    return str(weights_files[-1])\n",
    "\n"
   ]
  }
 ],
 "metadata": {
  "kernelspec": {
   "display_name": "base",
   "language": "python",
   "name": "python3"
  },
  "language_info": {
   "codemirror_mode": {
    "name": "ipython",
    "version": 3
   },
   "file_extension": ".py",
   "mimetype": "text/x-python",
   "name": "python",
   "nbconvert_exporter": "python",
   "pygments_lexer": "ipython3",
   "version": "3.11.7"
  }
 },
 "nbformat": 4,
 "nbformat_minor": 2
}
