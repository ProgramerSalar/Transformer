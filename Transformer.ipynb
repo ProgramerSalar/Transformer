{
 "cells": [
  {
   "cell_type": "code",
   "execution_count": 1,
   "metadata": {},
   "outputs": [],
   "source": [
    "import torch\n",
    "import torch.nn as nn \n",
    "import math\n"
   ]
  },
  {
   "cell_type": "markdown",
   "metadata": {},
   "source": [
    "# Make A Transformer Model\n",
    "\n",
    "## InputEmbedding"
   ]
  },
  {
   "cell_type": "code",
   "execution_count": 6,
   "metadata": {},
   "outputs": [],
   "source": [
    "class InputEmbedding(nn.Module):\n",
    "    \n",
    "    def __init__(self, \n",
    "                 d_model:int,   # dimension model\n",
    "                 vocab_size:int   # vocabulary size  \n",
    "                 ) -> None:\n",
    "        \n",
    "        super().__init__()\n",
    "        self.d_model = d_model\n",
    "        self.vocab_size = vocab_size\n",
    "        self.embedding = nn.Embedding(vocab_size, d_model)\n",
    "        \n",
    "        \n",
    "    def forward(self, x):\n",
    "        return self.embedding(x) * math.sqrt(self.d_model)\n",
    "    "
   ]
  },
  {
   "cell_type": "code",
   "execution_count": 7,
   "metadata": {},
   "outputs": [
    {
     "data": {
      "text/plain": [
       "InputEmbedding(\n",
       "  (embedding): Embedding(10000, 512)\n",
       ")"
      ]
     },
     "execution_count": 7,
     "metadata": {},
     "output_type": "execute_result"
    }
   ],
   "source": [
    "d_model =  512\n",
    "vocab_size = 10000\n",
    "\n",
    "\n",
    "InputEmbedding(\n",
    "    d_model=d_model,\n",
    "    vocab_size=vocab_size\n",
    ")"
   ]
  },
  {
   "cell_type": "markdown",
   "metadata": {},
   "source": [
    "## Positional Encoding"
   ]
  },
  {
   "cell_type": "code",
   "execution_count": 285,
   "metadata": {},
   "outputs": [],
   "source": [
    "class PositionalEncoding(nn.Module):\n",
    "    \n",
    "    def __init__(self,\n",
    "                 d_model:int,\n",
    "                 seq_len:int,\n",
    "                 dropout:float\n",
    "                 ) -> None:\n",
    "        super().__init__()\n",
    "        self.d_model = d_model\n",
    "        self.seq_len = seq_len\n",
    "        self.dropout = nn.Dropout(dropout)\n",
    "        \n",
    "        \n",
    "        # initilize the positional encoding \n",
    "        pe = torch.zeros(seq_len, d_model)\n",
    "        \n",
    "        # positional \n",
    "        position = torch.arange(0, seq_len, dtype=torch.float).unsqueeze(1)\n",
    "        \n",
    "        # dominator part of positional encoding \n",
    "        dominator = torch.exp(torch.arange(0, d_model, 2).float() * (-math.log(10000.0) / d_model))\n",
    "\n",
    "        # enven indices in positional encoding \n",
    "        pe[:, 0::2] = torch.sin(position * dominator)\n",
    "        \n",
    "        # cos indices in positional encoding \n",
    "        pe[:, 1::2] = torch.cos(position * dominator)\n",
    "        \n",
    "        # unsqueze the dimension \n",
    "        pe = pe.unsqueeze(0)\n",
    "        \n",
    "        # take minimum pattern in the positional encoding \n",
    "        self.register_buffer('pe', pe)\n",
    "        \n",
    "    def forward(self, x):\n",
    "        x = x + (self.pe[:, :x.shape[1], :]).requires_grad_(False)\n",
    "        return self.dropout(x)"
   ]
  },
  {
   "cell_type": "code",
   "execution_count": 286,
   "metadata": {},
   "outputs": [
    {
     "data": {
      "text/plain": [
       "PositionalEncoding(\n",
       "  (dropout): Dropout(p=0.1, inplace=False)\n",
       ")"
      ]
     },
     "execution_count": 286,
     "metadata": {},
     "output_type": "execute_result"
    }
   ],
   "source": [
    "PositionalEncoding(\n",
    "    d_model=512,\n",
    "    seq_len=1000,\n",
    "    dropout=0.1\n",
    ")"
   ]
  },
  {
   "cell_type": "markdown",
   "metadata": {},
   "source": [
    "## MultiHeadAttention"
   ]
  },
  {
   "cell_type": "code",
   "execution_count": 287,
   "metadata": {},
   "outputs": [],
   "source": [
    "class MultiHeadAttentionBlock(nn.Module):\n",
    "    \n",
    "    def __init__(self,\n",
    "                 h:int,\n",
    "                 d_model:int,\n",
    "                 dropout:float) -> None:\n",
    "        super().__init__()\n",
    "        self.h = h \n",
    "        self.d_model = d_model\n",
    "        \n",
    "        \n",
    "        # make sure the dimension of the d_model \n",
    "        assert d_model % h == 0, \"d_model is not divisible by h\" \n",
    "        \n",
    "        # make sure d_model is dibsible by h \n",
    "        self.d_k = d_model // h \n",
    "        \n",
    "        # make query, key, value and output of the word \n",
    "        self.w_q = nn.Linear(d_model, d_model, bias=False)\n",
    "        self.w_k = nn.Linear(d_model, d_model, bias=False)\n",
    "        self.w_v = nn.Linear(d_model, d_model, bias=False)\n",
    "        self.w_o = nn.Linear(d_model, d_model, bias=False)\n",
    "        self.dropout = nn.Dropout(dropout)\n",
    "        \n",
    "    @staticmethod    \n",
    "    def attention(query, key, value, mask, dropout:nn.Dropout):\n",
    "        \n",
    "        # query is the list dimension \n",
    "        d_k = query.shape[-1]\n",
    "        \n",
    "        # transform the dimension of the query and key \n",
    "        attention_score = (query @ key.transpose(-2, -1)) / math.sqrt(d_k)\n",
    "        \n",
    "        # apply the mask in the attention score \n",
    "        if mask is not None:\n",
    "            attention_score.masked_fill_(mask==0,\n",
    "                                           -1e9)\n",
    "            \n",
    "        # apply the dropout in the attention score \n",
    "        if dropout is not None:\n",
    "            attention_score = dropout(attention_score)\n",
    "            return (attention_score @ value), attention_score\n",
    "        \n",
    "        \n",
    "        \n",
    "    def forward(self, q, k, v, mask):\n",
    "        \n",
    "        query = self.w_q(q)\n",
    "        key = self.w_k(k)\n",
    "        value = self.w_v(v)\n",
    "        \n",
    "        query = query.view(query.shape[0], query.shape[1], self.h, self.d_k).transpose(1, 2)\n",
    "        key = key.view(key.shape[0], key.shape[1], self.h, self.d_k).transpose(1, 2)\n",
    "        value = value.view(value.shape[0], value.shape[1], self.h, self.d_k).transpose(1, 2)\n",
    "        \n",
    "        \n",
    "        # calculation of attention \n",
    "        x, self.attention_score = MultiHeadAttentionBlock.attention(query, key, value, mask, self.dropout)\n",
    "        \n",
    "        # transpose the attention \n",
    "        x = x.transpose(1, 2).contiguous().view(x.shape[0], -1, self.d_k * self.h)\n",
    "        \n",
    "        return self.w_o(x)        "
   ]
  },
  {
   "cell_type": "code",
   "execution_count": 288,
   "metadata": {},
   "outputs": [
    {
     "data": {
      "text/plain": [
       "MultiHeadAttentionBlock(\n",
       "  (w_q): Linear(in_features=512, out_features=512, bias=False)\n",
       "  (w_k): Linear(in_features=512, out_features=512, bias=False)\n",
       "  (w_v): Linear(in_features=512, out_features=512, bias=False)\n",
       "  (w_o): Linear(in_features=512, out_features=512, bias=False)\n",
       "  (dropout): Dropout(p=0.1, inplace=False)\n",
       ")"
      ]
     },
     "execution_count": 288,
     "metadata": {},
     "output_type": "execute_result"
    }
   ],
   "source": [
    "MultiHeadAttentionBlock(\n",
    "    h=8,\n",
    "    d_model=512,\n",
    "    dropout=0.1\n",
    ")"
   ]
  },
  {
   "cell_type": "markdown",
   "metadata": {},
   "source": [
    "## LayerNormalization"
   ]
  },
  {
   "cell_type": "code",
   "execution_count": 289,
   "metadata": {},
   "outputs": [],
   "source": [
    "class LayerNormalization(nn.Module):\n",
    "    \n",
    "    def __init__(self,\n",
    "                 fetures:int,\n",
    "                 eps:float=10**-6) -> None:\n",
    "        super().__init__()\n",
    "        self.eps = eps \n",
    "        self.alpha = nn.Parameter(torch.ones(fetures))\n",
    "        self.bias = nn.Parameter(torch.zeros(fetures))\n",
    "        \n",
    "    def forward(self, x):\n",
    "        \n",
    "        mean = x.mean(dim = -1,\n",
    "                      keepdim=True)\n",
    "        \n",
    "        \n",
    "        std = x.std(dim=-1, keepdim=True)\n",
    "        \n",
    "        return self.alpha * (x - mean) / (std + self.eps) + self.bias\n",
    "    "
   ]
  },
  {
   "cell_type": "code",
   "execution_count": 290,
   "metadata": {},
   "outputs": [
    {
     "data": {
      "text/plain": [
       "LayerNormalization()"
      ]
     },
     "execution_count": 290,
     "metadata": {},
     "output_type": "execute_result"
    }
   ],
   "source": [
    "LayerNormalization(\n",
    "    fetures=20\n",
    ")"
   ]
  },
  {
   "cell_type": "markdown",
   "metadata": {},
   "source": [
    "## FeedForward"
   ]
  },
  {
   "cell_type": "code",
   "execution_count": 291,
   "metadata": {},
   "outputs": [],
   "source": [
    "class FeedForwardBlock(nn.Module):\n",
    "    \n",
    "    def __init__(self,\n",
    "                 d_model:int,\n",
    "                 d_ff:int,\n",
    "                 dropout:float) -> None:\n",
    "        super().__init__()\n",
    "        self.linear_1 = nn.Linear(d_model,\n",
    "                                  d_ff)\n",
    "        self.dropout = nn.Dropout(dropout)\n",
    "        self.linear_2 = nn.Linear(d_ff, d_model)\n",
    "        \n",
    "        \n",
    "    def forward(self, x):\n",
    "        return self.linear_2(self.dropout(torch.relu(self.linear_1(x))))"
   ]
  },
  {
   "cell_type": "code",
   "execution_count": 292,
   "metadata": {},
   "outputs": [
    {
     "data": {
      "text/plain": [
       "FeedForwardBlock(\n",
       "  (linear_1): Linear(in_features=512, out_features=2048, bias=True)\n",
       "  (dropout): Dropout(p=0.1, inplace=False)\n",
       "  (linear_2): Linear(in_features=2048, out_features=512, bias=True)\n",
       ")"
      ]
     },
     "execution_count": 292,
     "metadata": {},
     "output_type": "execute_result"
    }
   ],
   "source": [
    "FeedForwardBlock(\n",
    "    d_model=512,\n",
    "    d_ff=2048,\n",
    "    dropout=0.1\n",
    ")"
   ]
  },
  {
   "cell_type": "markdown",
   "metadata": {},
   "source": [
    "## Residual Connection"
   ]
  },
  {
   "cell_type": "code",
   "execution_count": 293,
   "metadata": {},
   "outputs": [],
   "source": [
    "class ResidualConnection(nn.Module):\n",
    "    \n",
    "    def __init__(self,\n",
    "                 features:int,\n",
    "                 dropout:float\n",
    "                 ) -> None:\n",
    "        super().__init__()\n",
    "        self.dropout = nn.Dropout(dropout)\n",
    "        self.norm = LayerNormalization(features)\n",
    "        \n",
    "    def forward(self, x, sublayer):\n",
    "        return x + self.dropout(sublayer(self.norm(x)))"
   ]
  },
  {
   "cell_type": "code",
   "execution_count": 294,
   "metadata": {},
   "outputs": [
    {
     "data": {
      "text/plain": [
       "ResidualConnection(\n",
       "  (dropout): Dropout(p=0.1, inplace=False)\n",
       "  (norm): LayerNormalization()\n",
       ")"
      ]
     },
     "execution_count": 294,
     "metadata": {},
     "output_type": "execute_result"
    }
   ],
   "source": [
    "ResidualConnection(\n",
    "    features=2048,\n",
    "    dropout=0.1\n",
    ")"
   ]
  },
  {
   "cell_type": "markdown",
   "metadata": {},
   "source": [
    "## EncoderBlock"
   ]
  },
  {
   "cell_type": "code",
   "execution_count": 295,
   "metadata": {},
   "outputs": [],
   "source": [
    "class EncoderBlock(nn.Module):\n",
    "    \n",
    "    def __init__(self,\n",
    "                 features:int,\n",
    "                 self_attention_block:MultiHeadAttentionBlock,\n",
    "                 feed_forward_block:FeedForwardBlock,\n",
    "                 dropout:float\n",
    "                 ) -> None:\n",
    "        super().__init__()\n",
    "        self.self_attention_block = self_attention_block\n",
    "        self.feed_forward_block = feed_forward_block\n",
    "        self.residual_connection = nn.ModuleList([ResidualConnection(features, dropout) for _ in range(2)])\n",
    "        \n",
    "    def forward(self, x, src_mask):\n",
    "        \n",
    "        x = self.residual_connection[0](x, lambda x: self.self_attention_block(x, x, x, src_mask))\n",
    "        x = self.residual_connection[1](x, self.feed_forward_block)\n",
    "        \n",
    "        return x \n",
    "        \n",
    "        "
   ]
  },
  {
   "cell_type": "code",
   "execution_count": 296,
   "metadata": {},
   "outputs": [
    {
     "data": {
      "text/plain": [
       "[ResidualConnection(\n",
       "   (dropout): Dropout(p=0.1, inplace=False)\n",
       "   (norm): LayerNormalization()\n",
       " ),\n",
       " ResidualConnection(\n",
       "   (dropout): Dropout(p=0.1, inplace=False)\n",
       "   (norm): LayerNormalization()\n",
       " )]"
      ]
     },
     "execution_count": 296,
     "metadata": {},
     "output_type": "execute_result"
    }
   ],
   "source": [
    "[ResidualConnection(features=2048, dropout=0.1) for i in range(2)]\n"
   ]
  },
  {
   "cell_type": "markdown",
   "metadata": {},
   "source": [
    "## Encoder"
   ]
  },
  {
   "cell_type": "code",
   "execution_count": 320,
   "metadata": {},
   "outputs": [],
   "source": [
    "class Encoder(nn.Module):\n",
    "    \n",
    "    def __init__(self,\n",
    "                 features:int,\n",
    "                 layers:nn.ModuleList\n",
    "                 ) -> None:\n",
    "        super().__init__()\n",
    "        self.layers = layers\n",
    "        self.norm = LayerNormalization(features)\n",
    "        \n",
    "        \n",
    "    def forward(self, x, mask):\n",
    "        for layer in self.layers:\n",
    "            x = layer(x, mask)\n",
    "        return self.norm(x)"
   ]
  },
  {
   "cell_type": "code",
   "execution_count": 321,
   "metadata": {},
   "outputs": [
    {
     "data": {
      "text/plain": [
       "Encoder(\n",
       "  (norm): LayerNormalization()\n",
       ")"
      ]
     },
     "execution_count": 321,
     "metadata": {},
     "output_type": "execute_result"
    }
   ],
   "source": [
    "Encoder(features=512,\n",
    "        layers=3)"
   ]
  },
  {
   "cell_type": "markdown",
   "metadata": {},
   "source": [
    "## DecoderBlock"
   ]
  },
  {
   "cell_type": "code",
   "execution_count": 322,
   "metadata": {},
   "outputs": [],
   "source": [
    "class DecoderBlock(nn.Module):\n",
    "    \n",
    "    def __init__(self,\n",
    "                 features:int,\n",
    "                 self_attention_block:MultiHeadAttentionBlock,\n",
    "                 cross_attention_block:MultiHeadAttentionBlock,\n",
    "                 feed_forward_block:FeedForwardBlock,\n",
    "                 dropout\n",
    "                 ) -> None:\n",
    "        super().__init__()\n",
    "        self.self_attention_block = self_attention_block\n",
    "        self.cross_attention_block = cross_attention_block\n",
    "        self.feed_forward_block = feed_forward_block\n",
    "        self.residual_connections = nn.ModuleList([ResidualConnection(features, dropout) for _ in range(3)])\n",
    "        \n",
    "        \n",
    "    def forward(self, x, encoder_output, src_mask, tgt_mask):\n",
    "        \n",
    "        x = self.residual_connections[0](x, lambda x: self.self_attention_block(x, x, x, tgt_mask))\n",
    "        x = self.residual_connections[1](x, lambda x: self.cross_attention_block(x, encoder_output, encoder_output, src_mask))\n",
    "        x = self.residual_connections[2](x, self.feed_forward_block)\n",
    "        \n",
    "        return x\n",
    "        "
   ]
  },
  {
   "cell_type": "code",
   "execution_count": 323,
   "metadata": {},
   "outputs": [],
   "source": [
    "class Decoder(nn.Module):\n",
    "    \n",
    "    def __init__(self,\n",
    "                 features:int,\n",
    "                 layers:nn.ModuleList\n",
    "                 ) -> None:\n",
    "        super().__init__()\n",
    "        self.layers = layers\n",
    "        self.norm = LayerNormalization(features)\n",
    "        \n",
    "        \n",
    "    def forward(self, x, encoder_output, src_mask, tgt_mask):\n",
    "        \n",
    "        for layer in self.layers:\n",
    "            x = layer(x, encoder_output, src_mask, tgt_mask)\n",
    "        return self.norm(x)\n",
    "            "
   ]
  },
  {
   "cell_type": "markdown",
   "metadata": {},
   "source": [
    "## ProjectionLayer"
   ]
  },
  {
   "cell_type": "code",
   "execution_count": 324,
   "metadata": {},
   "outputs": [],
   "source": [
    "class ProjectionLayer(nn.Module):\n",
    "    \n",
    "    def __init__(self,\n",
    "                 d_model,\n",
    "                 vocab_size) -> None:\n",
    "        super().__init__()\n",
    "        self.proj = nn.Linear(d_model, vocab_size)\n",
    "        \n",
    "        \n",
    "    def forward(self, x):\n",
    "        return self.proj(x)"
   ]
  },
  {
   "cell_type": "code",
   "execution_count": 325,
   "metadata": {},
   "outputs": [
    {
     "data": {
      "text/plain": [
       "ProjectionLayer(\n",
       "  (proj): Linear(in_features=512, out_features=2000, bias=True)\n",
       ")"
      ]
     },
     "execution_count": 325,
     "metadata": {},
     "output_type": "execute_result"
    }
   ],
   "source": [
    "\n",
    "ProjectionLayer(d_model=512,\n",
    "                vocab_size=2000)"
   ]
  },
  {
   "cell_type": "markdown",
   "metadata": {},
   "source": [
    "## Transformer"
   ]
  },
  {
   "cell_type": "code",
   "execution_count": 326,
   "metadata": {},
   "outputs": [],
   "source": [
    "class Transformer(nn.Module):\n",
    "    \n",
    "    def __init__(self,\n",
    "                 encoder:Encoder,\n",
    "                 decoder:Decoder,\n",
    "                 src_embed:InputEmbedding,\n",
    "                 tgt_embed:InputEmbedding,\n",
    "                 src_pos:PositionalEncoding,\n",
    "                 tgt_pos:PositionalEncoding,\n",
    "                 projection_layer:ProjectionLayer\n",
    "                 ) -> None:\n",
    "        super().__init__()\n",
    "        \n",
    "        self.encoder = encoder\n",
    "        self.decoder = decoder\n",
    "        self.src_embed = src_embed\n",
    "        self.tgt_embed = tgt_embed\n",
    "        self.src_pos = src_pos\n",
    "        self.tgt_pos = tgt_pos\n",
    "        self.projection_layer = projection_layer\n",
    "        \n",
    "        \n",
    "    def encode(self, \n",
    "               src,\n",
    "               src_mask):\n",
    "        \n",
    "        src = self.src_embed(src)\n",
    "        src = self.src_pos(src)\n",
    "        return self.encoder(src, src_mask)\n",
    "    \n",
    "    def decode(self, \n",
    "                encoder_output:torch.Tensor,\n",
    "                src_mask:torch.Tensor,\n",
    "                tgt:torch.Tensor,\n",
    "                tgt_mask:torch.Tensor\n",
    "                 ):\n",
    "        \n",
    "        tgt = self.tgt_embed(tgt)\n",
    "        tgt = self.tgt_pos(tgt)\n",
    "        \n",
    "        return self.decoder(tgt, encoder_output, src_mask, tgt_mask)\n",
    "    \n",
    "    \n",
    "    def project(self, x):\n",
    "        return self.projection_layer(x)"
   ]
  },
  {
   "cell_type": "markdown",
   "metadata": {},
   "source": [
    "## Build Transformer"
   ]
  },
  {
   "cell_type": "code",
   "execution_count": 327,
   "metadata": {},
   "outputs": [],
   "source": [
    "def build_Transformer(\n",
    "                    src_vocab_size:int,\n",
    "                    tgt_vocab_size:int,\n",
    "                    src_seq_len:int,\n",
    "                    tgt_seq_len:int,\n",
    "                    d_model:int=512,\n",
    "                    N:int=6,\n",
    "                    h:int=8,\n",
    "                    dropout:float=0.1,\n",
    "                    d_ff:int=2048\n",
    "                ) -> Transformer:\n",
    "    \n",
    "    \n",
    "    # create the embedding layers \n",
    "    src_embed = InputEmbedding(d_model, src_vocab_size)\n",
    "    tgt_embed = InputEmbedding(d_model, tgt_vocab_size)\n",
    "    \n",
    "    # create a positional embedding \n",
    "    src_pos = PositionalEncoding(d_model, src_seq_len, dropout)\n",
    "    tgt_pos = PositionalEncoding(d_model, tgt_seq_len, dropout)\n",
    "    \n",
    "    \n",
    "    # create a encoder blocks \n",
    "    encoder_blocks = []\n",
    "    for _ in range(N):\n",
    "        encoder_self_attention_block = MultiHeadAttentionBlock(h=h,\n",
    "                                                               d_model=d_model,\n",
    "                                                               dropout=dropout)\n",
    "        feed_forward_block = FeedForwardBlock(d_model, d_ff, dropout)\n",
    "        encoder_block = EncoderBlock(features=d_model,\n",
    "                                     self_attention_block=encoder_self_attention_block,\n",
    "                                     feed_forward_block=feed_forward_block,\n",
    "                                     dropout=dropout)\n",
    "        encoder_blocks.append(encoder_block)\n",
    "        \n",
    "        \n",
    "    # create a decoder blocks \n",
    "    decoder_blocks = []\n",
    "    for _ in range(N):\n",
    "        decoder_self_attention_block = MultiHeadAttentionBlock(h=h,\n",
    "                                                               d_model=d_model,\n",
    "                                                               dropout=dropout)\n",
    "        \n",
    "        decoder_cross_attention_block = MultiHeadAttentionBlock(h=h,\n",
    "                                                                d_model=d_model,\n",
    "                                                                dropout=dropout)\n",
    "        \n",
    "        feed_forward_block = FeedForwardBlock(d_model=d_model, \n",
    "                                              d_ff=d_ff,\n",
    "                                              dropout=dropout)\n",
    "        \n",
    "        decoder_block = DecoderBlock(features=d_model,\n",
    "                                     self_attention_block=decoder_self_attention_block,\n",
    "                                     cross_attention_block=decoder_cross_attention_block,\n",
    "                                     feed_forward_block=feed_forward_block,\n",
    "                                     dropout=dropout)\n",
    "        \n",
    "        decoder_blocks.append(decoder_block)\n",
    "        \n",
    "    # create the encoder and decoder \n",
    "    encoder = Encoder(features=d_model,\n",
    "                      layers=nn.ModuleList(encoder_blocks))\n",
    "    \n",
    "    decoder = Decoder(features=d_model,\n",
    "                      layers=nn.ModuleList(decoder_blocks))\n",
    "    \n",
    "    \n",
    "    # create a projection layer \n",
    "    projection_layer = ProjectionLayer(d_model=d_model,\n",
    "                                       vocab_size=tgt_vocab_size)\n",
    "    \n",
    "    \n",
    "    # create a transformer \n",
    "    transformer = Transformer(encoder=encoder,\n",
    "                              decoder=decoder,\n",
    "                              src_embed=src_embed,\n",
    "                              tgt_embed=tgt_embed,\n",
    "                              src_pos=src_pos,\n",
    "                              tgt_pos=tgt_pos,\n",
    "                              projection_layer=projection_layer\n",
    "                              )\n",
    "    \n",
    "    # initilize the parameter using xavier uniform \n",
    "    for p in transformer.parameters():\n",
    "        if p.dim() > 1:\n",
    "            nn.init.xavier_uniform_(p)\n",
    "            \n",
    "            \n",
    "    return transformer\n",
    "    \n",
    "    \n",
    "    "
   ]
  },
  {
   "cell_type": "markdown",
   "metadata": {},
   "source": [
    "# Train The Model"
   ]
  },
  {
   "cell_type": "code",
   "execution_count": 328,
   "metadata": {},
   "outputs": [],
   "source": [
    "from pathlib import Path"
   ]
  },
  {
   "cell_type": "code",
   "execution_count": 329,
   "metadata": {},
   "outputs": [],
   "source": [
    "def get_config():\n",
    "    return {\n",
    "        \"batch_size\":8,\n",
    "        \"num_epochs\":20,\n",
    "        \"lr\":10**-4,\n",
    "        \"seq_len\":350,\n",
    "        \"d_model\":512,\n",
    "        \"datasource\":\"opus_books\",\n",
    "        \"lang_src\":\"en\",\n",
    "        \"lang_tgt\":\"it\",\n",
    "        \"model_folder\":\"weights\",\n",
    "        \"model_basename\":\"tmodel_\",\n",
    "        \"preload\":\"latest\",\n",
    "        \"tokenizer_file\":\"tokenizer_{0}.json\",\n",
    "        \"experiment_name\":\"runs/tmodel\"\n",
    "    }\n",
    "    \n",
    "    \n",
    "# Allow to find the Path where we need to save the weights\n",
    "\n",
    "def get_weights_file_path(config, epoch:str):\n",
    "    \n",
    "    model_folder = f\"{config['datasource']}_{config['model_folder']}\"\n",
    "    model_filename = f\"{config['model_basename']}{epoch}.pt\"\n",
    "    \n",
    "    return str(Path('.') / model_folder / model_filename)\n",
    "    "
   ]
  },
  {
   "cell_type": "code",
   "execution_count": 330,
   "metadata": {},
   "outputs": [],
   "source": [
    "# find the latest weight file in the weights\n",
    "\n",
    "def latest_weights_file_path(config):\n",
    "    \n",
    "    model_folder = f\"{config['datasource']}_{config['model_folder']}\"\n",
    "    model_filename = f\"{config[\"model_basename\"]}*\"\n",
    "    weights_files = list(Path(model_folder).glob(model_filename))\n",
    "    \n",
    "    if len(weights_files) == 0:\n",
    "        return None \n",
    "    \n",
    "    weights_files.sort()\n",
    "    return str(weights_files[-1])"
   ]
  },
  {
   "cell_type": "code",
   "execution_count": 331,
   "metadata": {},
   "outputs": [
    {
     "name": "stdout",
     "output_type": "stream",
     "text": [
      "[9, 6, 5, 4, 2, 1]\n"
     ]
    }
   ],
   "source": [
    "numbers = [4, 2, 9, 1, 5, 6]\n",
    "numbers.sort(reverse=True)\n",
    "print(numbers)\n"
   ]
  },
  {
   "cell_type": "code",
   "execution_count": 332,
   "metadata": {},
   "outputs": [
    {
     "data": {
      "text/plain": [
       "(<function __main__.get_config()>,\n",
       " <function __main__.get_weights_file_path(config, epoch: str)>,\n",
       " <function __main__.latest_weights_file_path(config)>)"
      ]
     },
     "execution_count": 332,
     "metadata": {},
     "output_type": "execute_result"
    }
   ],
   "source": [
    "get_config, get_weights_file_path, latest_weights_file_path"
   ]
  },
  {
   "cell_type": "code",
   "execution_count": 333,
   "metadata": {},
   "outputs": [],
   "source": [
    "from torch.utils.data import Dataset"
   ]
  },
  {
   "cell_type": "code",
   "execution_count": 334,
   "metadata": {},
   "outputs": [],
   "source": [
    "class BilingualDataset(Dataset):\n",
    "    \n",
    "    def __init__(self,\n",
    "                 ds,\n",
    "                 tokenizer_src,\n",
    "                 tokenizer_tgt,\n",
    "                 src_lang,\n",
    "                 tgt_lang,\n",
    "                 seq_len\n",
    "                 ) -> None:\n",
    "        super().__init__()\n",
    "        \n",
    "        self.ds = ds \n",
    "        self.tokenizer_src = tokenizer_src\n",
    "        self.tokenizer_tgt = tokenizer_tgt\n",
    "        self.src_lang = src_lang\n",
    "        self.tgt_lang = tgt_lang\n",
    "        self.seq_len = seq_len\n",
    "        \n",
    "        \n",
    "        self.sos_token = torch.tensor([tokenizer_tgt.token_to_id(\"[SOS]\")], dtype=torch.int64)\n",
    "        self.eos_token = torch.tensor([tokenizer_tgt.token_to_id(\"[EOS]\")], dtype=torch.int64)\n",
    "        self.pad_token = torch.tensor([tokenizer_tgt.token_to_id(\"[PAD]\")], dtype=torch.int64)\n",
    "        \n",
    "        \n",
    "    # we also need to define the length method of this dataset \n",
    "    def __len__(self):\n",
    "        return len(self.ds)\n",
    "    \n",
    "    \n",
    "    @staticmethod\n",
    "    def causal_mask(size):\n",
    "        \n",
    "        mask = torch.triu(\n",
    "            torch.ones(1, size, size), diagonal=1\n",
    "        ).type(torch.int)\n",
    "        \n",
    "        return mask == 0\n",
    "    \n",
    "    def __getitem__(self, idx):\n",
    "        src_target_pair = self.ds[idx]\n",
    "        src_text = src_target_pair['translation'][self.src_lang]\n",
    "        tgt_text = src_target_pair['translation'][self.tgt_lang]\n",
    "        \n",
    "        enc_input_tokens = self.tokenizer_src.encode(src_text).ids\n",
    "        dec_input_tokens = self.tokenizer_tgt.encode(tgt_text).ids\n",
    "        \n",
    "        \n",
    "        # calculate how may padding toolkeys we need to add for the encoder and decoder size \n",
    "        enc_num_padding_tokens = self.seq_len - len(enc_input_tokens) - 2 \n",
    "        \n",
    "        # we will only add <s> and </s> only on the label \n",
    "        dec_num_padding_tokens = self.seq_len - len(dec_input_tokens) - 1\n",
    "        \n",
    "        # make sure the number of padding tokens is not negative \n",
    "        if enc_num_padding_tokens < 0 or dec_num_padding_tokens < 0:\n",
    "            raise ValueError(\"Sentence is too long\")\n",
    "        \n",
    "        \n",
    "        encoder_input = torch.cat([\n",
    "            self.sos_token,\n",
    "            torch.tensor(enc_input_tokens, dtype=torch.int64),\n",
    "            self.eos_token,\n",
    "            torch.tensor([self.pad_token] * enc_num_padding_tokens, dtype=torch.int64)\n",
    "        ],\n",
    "            dim=0)\n",
    "        \n",
    "        \n",
    "        decoder_input = torch.cat(\n",
    "            [\n",
    "                self.sos_token,\n",
    "                torch.tensor(dec_input_tokens, dtype=torch.int64),\n",
    "                torch.tensor([self.pad_token] * dec_num_padding_tokens, dtype=torch.int64)\n",
    "            ],\n",
    "            dim=0\n",
    "        )\n",
    "        \n",
    "        \n",
    "        label = torch.cat(\n",
    "            [\n",
    "                torch.tensor(dec_input_tokens, dtype=torch.int64),\n",
    "                self.eos_token,\n",
    "                torch.tensor([self.pad_token] * dec_num_padding_tokens, dtype=torch.int64)\n",
    "            ],\n",
    "            dim=0\n",
    "        )\n",
    "        \n",
    "        assert encoder_input.size(0) == self.seq_len\n",
    "        assert decoder_input.size(0) == self.seq_len\n",
    "        assert label.size(0) == self.seq_len\n",
    "        \n",
    "        \n",
    "        return {\n",
    "            \"encoder_input\":encoder_input,\n",
    "            \"decoder_input\":decoder_input,\n",
    "            \"encoder_mask\":(encoder_input != self.pad_token).unsqueeze(0).int(),\n",
    "            \"decoder_mask\":(decoder_input != self.pad_token).unsqueeze(0).int() & self.causal_mask(decoder_input.size(0)),\n",
    "            \"label\":label,\n",
    "            \"src_text\":src_text,\n",
    "            \"tgt_text\":tgt_text\n",
    "        }\n",
    "        \n",
    "        \n",
    "    \n",
    "    \n",
    "        \n",
    "    "
   ]
  },
  {
   "cell_type": "code",
   "execution_count": 335,
   "metadata": {},
   "outputs": [],
   "source": [
    "from datasets import load_dataset\n",
    "from tokenizers import Tokenizer\n",
    "from tokenizers.models import WordLevel\n",
    "from tokenizers.trainers import WordLevelTrainer\n",
    "from tokenizers.pre_tokenizers import Whitespace\n",
    "from pathlib import Path\n"
   ]
  },
  {
   "cell_type": "code",
   "execution_count": 336,
   "metadata": {},
   "outputs": [],
   "source": [
    "def get_all_sentences(ds, lang):\n",
    "    for item in ds:\n",
    "        yield item['translation'][lang]"
   ]
  },
  {
   "cell_type": "code",
   "execution_count": 337,
   "metadata": {},
   "outputs": [],
   "source": [
    "def get_or_build_tokenizer(config,\n",
    "                           ds,\n",
    "                           lang):\n",
    "    \n",
    "    \n",
    "    \n",
    "    \n",
    "    \n",
    "    tokenizer_path = Path(config['tokenizer_file'].format(lang))\n",
    "    \n",
    "    if not Path.exists(tokenizer_path):\n",
    "        tokenizer = Tokenizer(WordLevel(unk_token=\"[UNK]\"))\n",
    "        tokenizer.pre_tokenizer = Whitespace()\n",
    "        \n",
    "        \n",
    "        trainer = WordLevelTrainer(\n",
    "            special_tokens = [\n",
    "                \"[UNK]\",\n",
    "                \"[PAD]\",\n",
    "                \"[SOS]\",\n",
    "                \"[EOS]\"\n",
    "            ], min_frequency=2\n",
    "        )\n",
    "        \n",
    "        tokenizer.train_from_iterator(get_all_sentences(ds, lang), trainer=trainer)\n",
    "        tokenizer.save(str(tokenizer_path))\n",
    "        \n",
    "        \n",
    "    else:\n",
    "        tokenizer = Tokenizer.from_file(str(tokenizer_path))\n",
    "        \n",
    "        \n",
    "    return tokenizer\n",
    "    "
   ]
  },
  {
   "cell_type": "code",
   "execution_count": 338,
   "metadata": {},
   "outputs": [
    {
     "data": {
      "text/plain": [
       "(__main__.BilingualDataset,\n",
       " <function __main__.BilingualDataset.causal_mask(size)>)"
      ]
     },
     "execution_count": 338,
     "metadata": {},
     "output_type": "execute_result"
    }
   ],
   "source": [
    "from torch.utils.data import Dataset, DataLoader, random_split\n",
    "BilingualDataset, BilingualDataset.causal_mask"
   ]
  },
  {
   "cell_type": "code",
   "execution_count": 339,
   "metadata": {},
   "outputs": [],
   "source": [
    "def get_ds(config):\n",
    "    \n",
    "    ds_raw = load_dataset(\n",
    "        'opus_books',\n",
    "        f\"{config['lang_src']}-{config['lang_tgt']}\",\n",
    "        split='train'\n",
    "    )\n",
    "    \n",
    "    # build tokenizers \n",
    "    tokenizer_src = get_or_build_tokenizer(config=config,\n",
    "                                           ds=ds_raw,\n",
    "                                           lang=config['lang_src']\n",
    "                                           )\n",
    "    \n",
    "    \n",
    "    \n",
    "    tokenizer_tgt = get_or_build_tokenizer(config=config,\n",
    "                                           ds=ds_raw,\n",
    "                                           lang=config[\"lang_src\"]\n",
    "                                           )\n",
    "    \n",
    "    \n",
    "    \n",
    "    \n",
    "    # keep 90% for training 10% for validation\n",
    "    train_ds_size = int(0.9 * len(ds_raw))\n",
    "    val_ds_size = len(ds_raw) - train_ds_size\n",
    "    train_ds_raw, val_ds_raw = random_split(ds_raw, [train_ds_size, val_ds_size])\n",
    "    \n",
    "    \n",
    "    train_ds = BilingualDataset(ds=train_ds_raw,\n",
    "                                tokenizer_src=tokenizer_src,\n",
    "                                tokenizer_tgt=tokenizer_tgt,\n",
    "                                src_lang=config[\"lang_src\"],\n",
    "                                tgt_lang=config[\"lang_tgt\"],\n",
    "                                seq_len=config[\"seq_len\"]\n",
    "                                )\n",
    "    \n",
    "    \n",
    "    val_ds = BilingualDataset(ds=val_ds_raw,\n",
    "                              tokenizer_src=tokenizer_src,\n",
    "                              tokenizer_tgt=tokenizer_tgt,\n",
    "                              src_lang=config[\"lang_src\"],\n",
    "                              tgt_lang=config[\"lang_tgt\"],\n",
    "                              seq_len=config[\"seq_len\"]\n",
    "                              )\n",
    "    \n",
    "    \n",
    "    # find the maximum length of each sentence in the source and target sentence \n",
    "    max_len_src = 0 \n",
    "    max_len_tgt = 0 \n",
    "    \n",
    "    \n",
    "    for item in ds_raw:\n",
    "        src_ids = tokenizer_src.encode(item[\"translation\"][config['lang_src']]).ids\n",
    "        tgt_ids = tokenizer_tgt.encode(item[\"translation\"][config[\"lang_tgt\"]]).ids\n",
    "        \n",
    "        \n",
    "        max_len_src = max(max_len_src, len(src_ids))\n",
    "        max_len_tgt = max(max_len_tgt, len(tgt_ids))\n",
    "        \n",
    "    print(f\"Max length of source sentence: {max_len_src}\")\n",
    "    print(f\"Max_length of target sentence: {max_len_tgt}\")\n",
    "    \n",
    "    train_dataloader = DataLoader(\n",
    "        train_ds,\n",
    "        batch_size=config['batch_size'],\n",
    "        shuffle=True\n",
    "    )\n",
    "    \n",
    "    val_dataloader = DataLoader(\n",
    "        val_ds,\n",
    "        batch_size=1,\n",
    "        shuffle=True\n",
    "    )\n",
    "    \n",
    "    return train_dataloader, val_dataloader, tokenizer_src, tokenizer_tgt\n",
    "        \n",
    "        \n",
    "    \n",
    "    \n",
    "    "
   ]
  },
  {
   "cell_type": "code",
   "execution_count": 340,
   "metadata": {},
   "outputs": [
    {
     "data": {
      "text/plain": [
       "<function __main__.build_Transformer(src_vocab_size: int, tgt_vocab_size: int, src_seq_len: int, tgt_seq_len: int, d_model: int = 512, N: int = 6, h: int = 8, dropout: float = 0.1, d_ff: int = 2048) -> __main__.Transformer>"
      ]
     },
     "execution_count": 340,
     "metadata": {},
     "output_type": "execute_result"
    }
   ],
   "source": [
    "build_Transformer"
   ]
  },
  {
   "cell_type": "code",
   "execution_count": 341,
   "metadata": {},
   "outputs": [],
   "source": [
    "def get_model(config,\n",
    "              vocab_src_len,\n",
    "              vocab_tgt_len):\n",
    "    \n",
    "    model = build_Transformer(\n",
    "        vocab_src_len,\n",
    "        vocab_tgt_len,\n",
    "        config[\"seq_len\"],\n",
    "        config[\"seq_len\"],\n",
    "        d_model=config[\"d_model\"]\n",
    "        \n",
    "    )\n",
    "    \n",
    "    return model"
   ]
  },
  {
   "cell_type": "markdown",
   "metadata": {},
   "source": [
    "## Train the Model"
   ]
  },
  {
   "cell_type": "code",
   "execution_count": 342,
   "metadata": {},
   "outputs": [
    {
     "name": "stdout",
     "output_type": "stream",
     "text": [
      "cpu\n"
     ]
    },
    {
     "name": "stdout",
     "output_type": "stream",
     "text": [
      "Max length of source sentence: 309\n",
      "Max_length of target sentence: 274\n",
      "config {'batch_size': 8, 'num_epochs': 20, 'lr': 0.0001, 'seq_len': 350, 'd_model': 512, 'datasource': 'opus_books', 'lang_src': 'en', 'lang_tgt': 'it', 'model_folder': 'weights', 'model_basename': 'tmodel_', 'preload': 'latest', 'tokenizer_file': 'tokenizer_{0}.json', 'experiment_name': 'runs/tmodel'}\n",
      "No model to preload, starting from scratch\n"
     ]
    },
    {
     "name": "stderr",
     "output_type": "stream",
     "text": [
      "Processing Epoch 00:  37%|███▋      | 1344/3638 [4:05:01<6:49:41, 10.72s/it, loss=3.123]"
     ]
    }
   ],
   "source": [
    "from torch.utils.tensorboard import SummaryWriter\n",
    "from tqdm import tqdm\n",
    "import warnings\n",
    "\n",
    "def train_model(config):\n",
    "    \n",
    "    device = \"cuda\" if torch.cuda.is_available() else \"cpu\"\n",
    "    print(device)\n",
    "    \n",
    "    \n",
    "    # make sure the weights folder exists \n",
    "    Path(f\"{config['datasource']}_{config['model_folder']}\").mkdir(parents=True, exist_ok=True)\n",
    "    \n",
    "    train_dataloader, val_dataloader, tokenizer_src, tokenizer_tgt = get_ds(config=config)\n",
    "    model = get_model(config=config,\n",
    "                      vocab_src_len=tokenizer_src.get_vocab_size(),\n",
    "                      vocab_tgt_len=tokenizer_tgt.get_vocab_size()\n",
    "                      ).to(device)\n",
    "    \n",
    "    \n",
    "    # Tensorboard \n",
    "    # config['experiment_name'] = 'my_experiment'\n",
    "    print(\"config\", config)\n",
    "\n",
    "    writer = SummaryWriter(config['experiment_name'])\n",
    "    # print(\"config\", config)\n",
    "    \n",
    "    \n",
    "    \n",
    "    optimizer = torch.optim.Adam(\n",
    "        model.parameters(),\n",
    "        lr=config['lr'],\n",
    "        eps = 1e-9\n",
    "    )\n",
    "    \n",
    "    \n",
    "    \n",
    "    initial_epoch = 0\n",
    "    global_step = 0\n",
    "    preload = config['preload']\n",
    "    model_filename = latest_weights_file_path(config) if preload == 'latest' else get_weights_file_path(config, preload) if preload else None\n",
    "    \n",
    "    if model_filename:\n",
    "        print(f\"Preload model {model_filename}\")\n",
    "        \n",
    "        state = torch.load(model_filename)\n",
    "        model.load_state_dict(state['model_state_dict'])\n",
    "        initial_epoch = state['epoch'] + 1\n",
    "        optimizer.load_state_dict(state['optimizer_state_dict'])\n",
    "        global_step = state['global_step']\n",
    "\n",
    "    else:\n",
    "        print(\"No model to preload, starting from scratch\")\n",
    "        \n",
    "        \n",
    "    loss_fn = nn.CrossEntropyLoss(\n",
    "        ignore_index=tokenizer_src.token_to_id('[PAD]'),\n",
    "        label_smoothing=0.1\n",
    "    ).to(device)\n",
    "    \n",
    "    \n",
    "    \n",
    "    for epoch in range(initial_epoch, config['num_epochs']):\n",
    "        torch.cuda.empty_cache()\n",
    "        model.train()\n",
    "        batch_iterator = tqdm(train_dataloader, desc=f\"Processing Epoch {epoch:02d}\")\n",
    "        \n",
    "        for batch in batch_iterator:\n",
    "            \n",
    "            # finally we get the tensor \n",
    "            encoder_input = batch['encoder_input'].to(device)\n",
    "            decoder_input = batch['decoder_input'].to(device)\n",
    "            encoder_mask = batch['encoder_mask'].to(device)\n",
    "            decoder_mask = batch['decoder_mask'].to(device)\n",
    "            \n",
    "            \n",
    "            # Run the tensors throught the encoder, decoder and the projection layer \n",
    "            encoder_output = model.encode(encoder_input,\n",
    "                                          encoder_mask)\n",
    "            \n",
    "            decoder_output = model.decode(encoder_output,\n",
    "                                          encoder_mask,\n",
    "                                          decoder_input,\n",
    "                                          decoder_mask)\n",
    "            \n",
    "            proj_output = model.project(decoder_output)\n",
    "            \n",
    "            \n",
    "            # compare the output with the label \n",
    "            label = batch['label'].to(device)\n",
    "            \n",
    "            \n",
    "            loss = loss_fn(proj_output.view(-1, tokenizer_tgt.get_vocab_size()), label.view(-1))\n",
    "            batch_iterator.set_postfix({\"loss\": f\"{loss.item():6.3f}\"})\n",
    "            \n",
    "            \n",
    "            # log the loss \n",
    "            writer.add_scalar('train loss', loss.item(), global_step)\n",
    "            writer.flush()\n",
    "            \n",
    "            # Backpropagate the loss \n",
    "            loss.backward()\n",
    "            \n",
    "            # update the weights \n",
    "            optimizer.step()\n",
    "            optimizer.zero_grad(set_to_none=True)\n",
    "            \n",
    "            global_step += 1\n",
    "            \n",
    "        # Run validation at the end of every epoch \n",
    "        run_validation(model, \n",
    "                       val_dataloader, \n",
    "                       tokenizer_src, \n",
    "                       tokenizer_tgt, \n",
    "                       config['seq_len'], \n",
    "                       device, \n",
    "                       lambda msg: batch_iterator.write(msg), \n",
    "                       global_step, \n",
    "                       writer)\n",
    "        \n",
    "        \n",
    "        \n",
    "        # save the model at the end of every epoch\n",
    "        model_filename = get_weights_file_path(config=config,\n",
    "                                               epoch=f\"{epoch:02d}\")\n",
    "        \n",
    "        \n",
    "        # take a snapshort \n",
    "        torch.save({\n",
    "            'epoch':epoch,\n",
    "            'model_state_dict':model.state_dict(),\n",
    "            'optimizer_state_dict': optimizer.state_dict(),\n",
    "            'global_step': global_step\n",
    "        }, model_filename)\n",
    "        \n",
    "        \n",
    "        \n",
    "if __name__ == \"__main__\":\n",
    "    warnings.filterwarnings('ignore')\n",
    "    config = get_config()\n",
    "    train_model(config)\n",
    "         \n",
    "    "
   ]
  },
  {
   "cell_type": "markdown",
   "metadata": {},
   "source": [
    "## Validation Model"
   ]
  },
  {
   "cell_type": "code",
   "execution_count": null,
   "metadata": {},
   "outputs": [],
   "source": [
    "import os \n",
    "\n",
    "\n",
    "def greedy_decode(model,\n",
    "                  source,\n",
    "                  source_mask,\n",
    "                  tokenizer_src,\n",
    "                  tokenizer_tgt,\n",
    "                  max_len,\n",
    "                  device):\n",
    "    \n",
    "    \n",
    "    \n",
    "    sos_idx = tokenizer_tgt.token_to_id('[SOS]')\n",
    "    eos_idx = tokenizer_tgt.token_to_id('[EOS]')\n",
    "    \n",
    "    \n",
    "    # precompute the encoder output and reuse if for every step \n",
    "    encoder_output = model.encoder(source,\n",
    "                                   source_mask)\n",
    "    \n",
    "    \n",
    "    # initilize the decoder input wht the sos token \n",
    "    decoder_input = torch.empty(\n",
    "        1,\n",
    "        1\n",
    "    ).fill_(sos_idx).type_as(source).to(device)\n",
    "    \n",
    "    \n",
    "    while True:\n",
    "        if decoder_input.size(1) == max_len:\n",
    "            break \n",
    "        \n",
    "        decoder_mask = BilingualDataset.causal_mask(size=decoder_input.size(1)).type_as(source_mask).to(device)\n",
    "        \n",
    "        \n",
    "        out = model.decode(encoder_output, \n",
    "                           source_mask,\n",
    "                           decoder_input,\n",
    "                           decoder_mask)\n",
    "        \n",
    "        \n",
    "        # get next token, probability of the next token using the linear layer \n",
    "        prob = model.project(out[:, -1])\n",
    "        _, next_word = torch.max(prob, dim=1)\n",
    "        \n",
    "        decoder_input = torch.cat([\n",
    "            decoder_input, \n",
    "            torch.empty(1, 1).type_as(source).fill_(next_word.item()).to(device)\n",
    "        ], dim = 1)\n",
    "        \n",
    "        \n",
    "        # next word is equal to end of the sentence token then stop the loop \n",
    "        if next_word == eos_idx:\n",
    "            break\n",
    "        \n",
    "        \n",
    "    return decoder_input.squeeze(0)"
   ]
  },
  {
   "cell_type": "code",
   "execution_count": null,
   "metadata": {},
   "outputs": [],
   "source": [
    "import torchmetrics\n",
    "\n",
    "def run_validation(model,\n",
    "                   validation_ds,\n",
    "                   tokenizer_src,\n",
    "                   tokenizer_tgt,\n",
    "                   max_len,\n",
    "                   device,\n",
    "                   print_msg,\n",
    "                   global_step,\n",
    "                   writer,\n",
    "                   num_examples=2\n",
    "                   ):\n",
    "    \n",
    "    \n",
    "    model.eval()\n",
    "    count = 0\n",
    "    \n",
    "    source_texts = []\n",
    "    expected = []\n",
    "    pridicted = []\n",
    "    \n",
    "    try:\n",
    "        \n",
    "        # get the console window with \n",
    "        with os.popen('stty size', 'r') as console:\n",
    "            _, console_width = console.read().split()\n",
    "            console.width = int(console_width)\n",
    "            \n",
    "    \n",
    "    except:\n",
    "        \n",
    "        # if we can't get the console width use 80 as default \n",
    "        console_width = 80 \n",
    "        \n",
    "    with torch.no_grad():\n",
    "        \n",
    "        for batch in validation_ds:\n",
    "            \n",
    "            count += 1\n",
    "            encoder_input = batch['encoder_input'].to(device)\n",
    "            encoder_mask = batch['encoder_mask'].to(device)\n",
    "            \n",
    "            # check that the batch size is 1\n",
    "            assert encoder_input.size(0) == 1, \"Batch size must be 1 for validation\"\n",
    "            \n",
    "            # so as you remember where we want to inference the model we need to calculate the encoder output only onece \n",
    "            model_out = greedy_decode(\n",
    "                model=model,\n",
    "                source=encoder_input,\n",
    "                source_mask=encoder_mask,\n",
    "                tokenizer_src=tokenizer_src,\n",
    "                tokenizer_tgt=tokenizer_tgt,\n",
    "                max_len=max_len,\n",
    "                device=device\n",
    "            )\n",
    "            \n",
    "            \n",
    "            # we wan to compare this model output with what we expected so with label so let's append \n",
    "            source_text = batch[\"src_text\"][0]\n",
    "            target_text = batch[\"tgt_text\"][0]\n",
    "            model_out_text = tokenizer_tgt.decoder(model_out.detach().cpu().numpy())\n",
    "            \n",
    "            # save into the prespective list \n",
    "            source_texts.append(source_text)\n",
    "            expected.append(target_text)\n",
    "            pridicted.append(model_out_text)\n",
    "            \n",
    "            \n",
    "            \n",
    "            print_msg('-'*console_width)    # can we print some bars \n",
    "            print_msg(f\"{f'SOURCE: ':>12}{source_text}\")  # source text message\n",
    "            print_msg(f\"{f'TARGET: ':>12}{target_text}\")  # target text message\n",
    "            print_msg(f\"{f'PREDICTED: ':>12}{model_out_text}\")  # pridicted text message \n",
    "            \n",
    "            \n",
    "            # if we have already processed number of example then we just break \n",
    "            if count == num_examples:\n",
    "                print_msg('-'*console_width)\n",
    "                break\n",
    "            \n",
    "            \n",
    "    if writer:\n",
    "        \n",
    "        # Evaluate the character error rate \n",
    "        # Compute the char error rate \n",
    "        metric = torchmetrics.CharErrorRate()\n",
    "        cer = metric(pridicted, expected)\n",
    "        writer.add_scalar('validation cer', cer, global_step)\n",
    "        writer.flush()\n",
    "        \n",
    "        \n",
    "        # compute the word error rate \n",
    "        metric = torchmetrics.WordErrorRate()\n",
    "        wer = metric(pridicted, expected)\n",
    "        writer.add_scalar('validation wer', wer, global_step)\n",
    "        writer.flush()\n",
    "        \n",
    "        \n",
    "        # compute the BLEU metric for the translation task \n",
    "        metric = torchmetrics.BLEUScore()\n",
    "        bleu = metric(pridicted, expected)\n",
    "        writer.add_scalar('validation BLEU', bleu, global_step)\n",
    "        writer.flush()\n",
    "        \n",
    "    "
   ]
  },
  {
   "cell_type": "code",
   "execution_count": null,
   "metadata": {},
   "outputs": [],
   "source": []
  }
 ],
 "metadata": {
  "kernelspec": {
   "display_name": "Python 3",
   "language": "python",
   "name": "python3"
  },
  "language_info": {
   "codemirror_mode": {
    "name": "ipython",
    "version": 3
   },
   "file_extension": ".py",
   "mimetype": "text/x-python",
   "name": "python",
   "nbconvert_exporter": "python",
   "pygments_lexer": "ipython3",
   "version": "3.12.5"
  }
 },
 "nbformat": 4,
 "nbformat_minor": 2
}
