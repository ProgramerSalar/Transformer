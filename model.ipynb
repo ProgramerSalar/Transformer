{
 "cells": [
  {
   "cell_type": "code",
   "execution_count": 1,
   "metadata": {},
   "outputs": [
    {
     "name": "stdout",
     "output_type": "stream",
     "text": [
      "True\n"
     ]
    }
   ],
   "source": [
    "import torch\n",
    "print(torch.cuda.is_available())"
   ]
  },
  {
   "cell_type": "code",
   "execution_count": 2,
   "metadata": {},
   "outputs": [],
   "source": [
    "import torch.nn as nn \n",
    "import math"
   ]
  },
  {
   "cell_type": "markdown",
   "metadata": {},
   "source": [
    "## 1.0 Input Embedding"
   ]
  },
  {
   "cell_type": "code",
   "execution_count": 13,
   "metadata": {},
   "outputs": [],
   "source": [
    "class InputEmbeddings(nn.Module):\n",
    "\n",
    "    def __init__(self, \n",
    "                 vocab_size:int,\n",
    "                 d_model:int) -> None:\n",
    "        \n",
    "        super().__init__()\n",
    "        self.vocab_size = vocab_size\n",
    "        self.d_model = d_model\n",
    "        self.embedding = nn.Embedding(vocab_size, d_model)\n",
    "\n",
    "    \n",
    "    def forward(self, x):\n",
    "        return self.embedding(x) * math.sqrt(self.d_model)"
   ]
  },
  {
   "cell_type": "code",
   "execution_count": 14,
   "metadata": {},
   "outputs": [
    {
     "data": {
      "text/plain": [
       "InputEmbeddings(\n",
       "  (embedding): Embedding(10, 512)\n",
       ")"
      ]
     },
     "execution_count": 14,
     "metadata": {},
     "output_type": "execute_result"
    }
   ],
   "source": [
    "InputEmbeddings(vocab_size=10,\n",
    "                d_model=512)"
   ]
  },
  {
   "cell_type": "markdown",
   "metadata": {},
   "source": [
    "## 2.0 PositionalEmbedding"
   ]
  },
  {
   "cell_type": "code",
   "execution_count": null,
   "metadata": {},
   "outputs": [],
   "source": [
    "class PositionalEmbedding(nn.Module):\n",
    "\n",
    "    def __init__(self,\n",
    "                 d_model:int,\n",
    "                 seq_len:int,\n",
    "                 dropout:float) -> None:\n",
    "        \n",
    "        super().__init__()\n",
    "        self.d_model = d_model\n",
    "        self.seq_len = seq_len\n",
    "        self.dropout = nn.Dropout(dropout)\n",
    "\n",
    "        # create a matrix of shape (seq_len, d_model)\n",
    "        pe = torch.zeros(seq_len, d_model)\n",
    "\n",
    "        # create a vector of shape(seq_len)\n",
    "        position = torch.arange(0, seq_len, dtype=torch.float).unsqueeze(1)\n",
    "\n",
    "        # create a vector of shape (d_model)\n",
    "        div_term = torch.exp(torch.arange(0, d_model, 2).float() (-math.log(10000.0) / d_model))\n",
    "\n",
    "        # Apply sine to even indices \n",
    "        pe[:, 0::2] = torch.sin(position * div_term)\n",
    "\n",
    "        # Apply consine to odd indices \n",
    "        pe[:, 1::2] = torch.cos(position * div_term)\n",
    "\n",
    "        # Add to batch dimension to the positional  encoding \n",
    "        pe = pe.unsqueeze(0)\n",
    "\n",
    "        # Register the positional encoding as a buffer \n",
    "        self.register_buffer('pe', pe)\n",
    "\n",
    "\n",
    "\n",
    "    def forward(self, x):\n",
    "        x = x + (self.pe[:, :x.shape[1], :]).required_grad_(False)\n",
    "\n",
    "        return self.dropout(x)\n"
   ]
  },
  {
   "cell_type": "markdown",
   "metadata": {},
   "source": [
    "### 3.0 LayerNormalization"
   ]
  },
  {
   "cell_type": "code",
   "execution_count": null,
   "metadata": {},
   "outputs": [],
   "source": [
    "class LayerNormalization(nn.Module):\n",
    "\n",
    "    def __init__(self, \n",
    "                 features:int,\n",
    "                 eps:float=10) -> None:\n",
    "        super().__init__()\n",
    "        \n",
    "        self.eps = eps \n",
    "        self.alpha = nn.Parameter(torch.ones(features))   # alpha is a learnable parameter\n",
    "        self.bias = nn.Parameter(torch.ones(features))    # bias is a learnable parameter\n",
    "\n",
    "        \n",
    "    def forward(self, x):\n",
    "\n",
    "        # keep the dimension for broadcasting \n",
    "        mean = x.mean(dim = -1, keepdim = True)\n",
    "\n",
    "        # standard daveation \n",
    "        std = x.std(dim = -1, keepdim = True)\n",
    "\n",
    "\n",
    "        # calculate the layarnormalization \n",
    "        return self.alpha * (x - mean) / (std + self.eps) + self.bias\n",
    "\n",
    "\n"
   ]
  },
  {
   "cell_type": "markdown",
   "metadata": {},
   "source": [
    "## 4.0 FeedForward Netwrok"
   ]
  },
  {
   "cell_type": "code",
   "execution_count": null,
   "metadata": {},
   "outputs": [],
   "source": [
    "class FeedForwardNetwork(nn.Module):\n",
    "\n",
    "    def __init__(self,\n",
    "                 d_model:int,\n",
    "                 d_ff:int,\n",
    "                 dropout:float) -> None:\n",
    "        super().__init__()\n",
    "        self.linear_1 = nn.Linear(d_model, d_ff)\n",
    "        self.dropout = nn.Dropout(dropout)\n",
    "        self.linear_2 = nn.Linear(d_ff, d_model)\n",
    "\n",
    "\n",
    "    def forward(self, x):\n",
    "        return self.linear_2(self.dropout(torch.relu(self.linear_1(x))))\n",
    "    \n",
    "\n",
    "    "
   ]
  },
  {
   "cell_type": "markdown",
   "metadata": {},
   "source": [
    "## 5.0 MultHeadAttention"
   ]
  },
  {
   "cell_type": "code",
   "execution_count": null,
   "metadata": {},
   "outputs": [],
   "source": [
    "class MultiHeadAttentionBlock(nn.Module):\n",
    "\n",
    "    def __init__(self,\n",
    "                 h:int,\n",
    "                 d_model:int,\n",
    "                 dropout:float) -> None:\n",
    "        super().__init__()\n",
    "        self.h = h \n",
    "        self.d_model = d_model\n",
    "        self.dropout = nn.Dropout(dropout)\n",
    "        assert d_model % h == 0 \n",
    "\n",
    "        self.d_k = d_model // h \n",
    "        self.w_q = nn.Linear(d_model, d_model, bias=False)\n",
    "        self.w_k = nn.Linear(d_model, d_model, bias=False)\n",
    "        self.w_v = nn.Linear(d_model, d_model, bias=False)\n",
    "        self.w_o = nn.Linear(d_model, d_model, bias=False)\n",
    "\n",
    "\n",
    "\n",
    "    def attention(query, key, value, mask, dropout:nn.Dropout):\n",
    "\n",
    "        d_k = query.shape[-1]\n",
    "        attention_scores = (query @ key.transpose(-2, -1)) / math.sqrt(d_k)\n",
    "\n",
    "        if mask is not None:\n",
    "            attention_scores = attention_scores.masked_fill_(mask == 0, \n",
    "                                                             -1e9)\n",
    "            \n",
    "\n",
    "        # calculate the softmax \n",
    "        attention_scores = attention_scores.softmax(dim = -1)\n",
    "\n",
    "        if dropout is not None:\n",
    "            attention_scores = dropout(attention_scores)\n",
    "\n",
    "\n",
    "        attention_scores = attention_scores @ value\n",
    "\n",
    "        return attention_scores\n",
    "\n",
    "\n",
    "\n",
    "\n",
    "\n",
    "    def forward(self, k, q, v, mask):\n",
    "\n",
    "        query = self.w_q(q)\n",
    "        key = self.w_k(k)\n",
    "        value = self.w_v(v)\n",
    "\n",
    "        # calculate the prime of key, query, value \n",
    "        query = query.view(query.shape[0], query.shape[1], self.h, self.d_k)\n",
    "        key = key.view(key.shape[0], key.shape[1], self.h, self.d_k)\n",
    "        value = value.view(value.shape[0], value.shape[1], self.h , self.d_k)\n",
    "\n",
    "\n",
    "        # calculate the multhead attention \n",
    "        x, self.attention_scores = MultiHeadAttentionBlock.attention(query, value, key, mask, self.dropout)\n",
    "\n",
    "\n",
    "        # (batch_size, seq_len, h, d_k) -> (batch_size, seq_len, d_model)\n",
    "        x = x.transpose(1, 2).contiguous().view(x.shape[0], x.shape[-1], self.h * self.d_k)\n",
    "\n",
    "\n",
    "        return self.w_o(x)\n",
    "    "
   ]
  },
  {
   "cell_type": "markdown",
   "metadata": {},
   "source": [
    "## 6.0 Residual Connection"
   ]
  },
  {
   "cell_type": "code",
   "execution_count": null,
   "metadata": {},
   "outputs": [],
   "source": [
    "class ResidualConnection(nn.Module):\n",
    "\n",
    "    def __init__(self,\n",
    "                 features:int,\n",
    "                 dropout:float) -> None:\n",
    "        super().__init__()\n",
    "\n",
    "        self.dropout = nn.Dropout(dropout)\n",
    "        self.norm = LayerNormalization(features)\n",
    "\n",
    "    def forward(self, x, sublayer):\n",
    "        # calculate the sublayer \n",
    "        x = self.dropout(sublayer(self.norm(x)))\n",
    "        return x"
   ]
  },
  {
   "cell_type": "markdown",
   "metadata": {},
   "source": [
    "## 7.0 EncoderBlock"
   ]
  },
  {
   "cell_type": "code",
   "execution_count": null,
   "metadata": {},
   "outputs": [],
   "source": [
    "class EncoderBlock(nn.Module):\n",
    "\n",
    "    def __init__(self,\n",
    "                 self_attention_block:MultiHeadAttentionBlock,\n",
    "                 feed_forward_block:FeedForwardNetwork,\n",
    "                 features:int,\n",
    "                 dropout:nn.Dropout) -> None:\n",
    "        super().__init__()\n",
    "        self.self_attention_block = self_attention_block\n",
    "        self.feed_forward_block = feed_forward_block\n",
    "        self.residual_connection = nn.ModuleList([\n",
    "            ResidualConnection(features, dropout) for _ in range(2)\n",
    "        ])\n",
    "\n",
    "\n",
    "    def forward(self, x, src_mask):  # srouce_mask -> hide the interaction of the padding word with other words we  don't want to padding word to interact with other words so we will apply the source mask  \n",
    "        x = self.residual_connection[0](x,  # first skip connection\n",
    "                                        lambda x: self.self_attention_block(x, x, x, src_mask)    # multi-head Attention block\n",
    "                                        )\n",
    "        \n",
    "\n",
    "        x = self.residual_connection(1)(x,  # second skip connection \n",
    "                                        self.feed_forward_block\n",
    "                                        )\n",
    "        \n",
    "\n",
    "        return x"
   ]
  },
  {
   "cell_type": "markdown",
   "metadata": {},
   "source": [
    "## 8.0 Encoder"
   ]
  },
  {
   "cell_type": "code",
   "execution_count": null,
   "metadata": {},
   "outputs": [],
   "source": [
    "class Encoder(nn.Module):\n",
    "\n",
    "    def __init__(self,\n",
    "                 features:int,\n",
    "                 layers:nn.ModuleList,\n",
    "                 ) -> None:\n",
    "        super().__init__()\n",
    "        self.layers = layers\n",
    "        self.norm = LayerNormalization(features)\n",
    "\n",
    "\n",
    "    def forward(self, x, mask):\n",
    "        for layer in self.layers:\n",
    "            x = layer(x, mask)\n",
    "\n",
    "        return self.norm(x)"
   ]
  },
  {
   "cell_type": "code",
   "execution_count": null,
   "metadata": {},
   "outputs": [],
   "source": [
    "class Encoder(nn.Module):\n",
    "\n",
    "    def __init__(self,\n",
    "                 features:int,\n",
    "                 layers:nn.ModuleList\n",
    "                 ) -> None:\n",
    "        super().__init__()\n",
    "        self.norm = LayerNormalization(features)\n",
    "        self.layers = layers\n",
    "\n",
    "\n",
    "    def forward(self, \n",
    "                x, \n",
    "                mask):\n",
    "        \n",
    "        \n",
    "        for layer in self.layers:\n",
    "            x = layer(x, mask)\n",
    "        return self.norm(x)"
   ]
  },
  {
   "cell_type": "markdown",
   "metadata": {},
   "source": [
    "## 1. Decodder"
   ]
  },
  {
   "cell_type": "code",
   "execution_count": null,
   "metadata": {},
   "outputs": [],
   "source": [
    "class DecoderBlock(nn.Module):\n",
    "\n",
    "    def __init__(self,\n",
    "                 features:int,\n",
    "                 self_attention_block:MultiHeadAttentionBlock,\n",
    "                 cross_attention_block:MultiHeadAttentionBlock,\n",
    "                 feed_forward_block:FeedForwardNetwork,\n",
    "                 dropout) -> None:\n",
    "        super().__init__()\n",
    "        self.self_attention_block = self_attention_block\n",
    "        self.cross_attention_block = cross_attention_block\n",
    "        self.feed_forward_block = feed_forward_block\n",
    "        self.residual_connections = nn.ModuleList([ResidualConnection(features, dropout) for _ in range(3)])\n",
    "        \n",
    "\n",
    "    def forward(self, x, src_mask, tgt_mask, encoder_output):\n",
    "        x = self.residual_connections[0](x, lambda x: self.self_attention_block(x, x, x,tgt_mask, src_mask ))\n",
    "        x = self.residual_connections[1](x, lambda x: self.self_attention_block(x, encoder_output, encoder_output, src_mask))\n",
    "        x = self.feed_forward_block[3](x, self.feed_forward_block)\n",
    "        return x \n",
    "        "
   ]
  },
  {
   "cell_type": "markdown",
   "metadata": {},
   "source": [
    "## 1.2 Decoder"
   ]
  },
  {
   "cell_type": "code",
   "execution_count": null,
   "metadata": {},
   "outputs": [],
   "source": [
    "class Decoder(nn.Module):\n",
    "\n",
    "    def __init__(self,\n",
    "                 features:int,\n",
    "                 layers:nn.ModuleList) -> None:\n",
    "        super().__init__()\n",
    "        self.layers = layers\n",
    "        self.norm = LayerNormalization(features)\n",
    "\n",
    "\n",
    "    def forward(self, x, encoder_output, src_mask, tgt_mask):\n",
    "        for layer in self.layers:\n",
    "            x = layer(x, encoder_output, src_mask, tgt_mask)\n",
    "        return self.norm(x)"
   ]
  },
  {
   "cell_type": "markdown",
   "metadata": {},
   "source": [
    "## 1.3 Projection Lyaer"
   ]
  },
  {
   "cell_type": "code",
   "execution_count": null,
   "metadata": {},
   "outputs": [],
   "source": [
    "class ProjectionLayer(nn.Module):\n",
    "\n",
    "    def __init__(self,\n",
    "                 d_model,\n",
    "                 vocab_size) -> None:\n",
    "        super().__init__()\n",
    "        self.proj = nn.Linear(d_model, vocab_size)\n",
    "\n",
    "\n",
    "    def forward(self, x) -> None:\n",
    "        return self.proj(x)\n",
    "    "
   ]
  },
  {
   "cell_type": "markdown",
   "metadata": {},
   "source": [
    "## 1.4 Transformer"
   ]
  },
  {
   "cell_type": "code",
   "execution_count": null,
   "metadata": {},
   "outputs": [],
   "source": [
    "class Transformer(nn.Module):\n",
    "\n",
    "    def __init__(self,\n",
    "                 encoder) -> None:\n",
    "        super().__init__()"
   ]
  }
 ],
 "metadata": {
  "kernelspec": {
   "display_name": "manish",
   "language": "python",
   "name": "python3"
  },
  "language_info": {
   "codemirror_mode": {
    "name": "ipython",
    "version": 3
   },
   "file_extension": ".py",
   "mimetype": "text/x-python",
   "name": "python",
   "nbconvert_exporter": "python",
   "pygments_lexer": "ipython3",
   "version": "3.11.7"
  }
 },
 "nbformat": 4,
 "nbformat_minor": 2
}
